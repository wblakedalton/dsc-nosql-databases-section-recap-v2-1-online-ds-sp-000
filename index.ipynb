{
 "cells": [
  {
   "cell_type": "markdown",
   "metadata": {},
   "source": [
    "# NoSQL Databases - Summary\n",
    "\n",
    "\n",
    "## Introduction\n",
    "\n",
    "We began this section by comparing and contrasting relational/SQL databases with the NoSQL databases. The four different kinds of NoSQL databases are: \n",
    "\n",
    "* Document Stores\n",
    "* Key-Value Stores\n",
    "* Column Stores\n",
    "* Graph Databases\n",
    "\n",
    "\n",
    "## MongoDB\n",
    "\n",
    "Next, we explored how to install **_MongoDB_** and get the **_MongoDB Server_** up and running. We learned some commands that we could use to interact with mongo right there in the server shell, and then focused on connecting to our MongoDB server with Python. \n",
    "\n",
    "You should remember the following high-level takeaways from MongoDB:\n",
    "\n",
    "* You use the `pymongo` library and a little boilerplate code to connect to the MongoDB database. \n",
    "* In MongoDB, records are referred to as **_Documents_**. \n",
    "* We can create groups of documents called **_Collections_**. \n",
    "* Records are inserted by passing in our data as Python dictionaries. \n",
    "    * We can insert a single record with our collection object's `.insert_one()` method. \n",
    "    * We can insert many records by creating a list of dictionaries and passing the entire list to the collection object's `.insert_many()` method. \n",
    "* We can write queries by using the collection object's `.find()` method. \n",
    "* We can **_filter_** our queries by passing in the key-value pairs to filter by. \n",
    "* We can also use logic on our filters by making use of **_modifiers_**. \n",
    "\n",
    "## Summary\n",
    "\n",
    "Congrats! You are now a (No)SQL wizard! It doesn't matter whether the data you want is stored in a SQL or a NoSQL database, you can access it with ease. "
   ]
  }
 ],
 "metadata": {
  "kernelspec": {
   "display_name": "Python 3",
   "language": "python",
   "name": "python3"
  },
  "language_info": {
   "codemirror_mode": {
    "name": "ipython",
    "version": 3
   },
   "file_extension": ".py",
   "mimetype": "text/x-python",
   "name": "python",
   "nbconvert_exporter": "python",
   "pygments_lexer": "ipython3",
   "version": "3.6.9"
  }
 },
 "nbformat": 4,
 "nbformat_minor": 2
}
